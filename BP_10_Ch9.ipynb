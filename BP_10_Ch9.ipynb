{
  "nbformat": 4,
  "nbformat_minor": 0,
  "metadata": {
    "colab": {
      "provenance": [],
      "authorship_tag": "ABX9TyNPpgyHcL0U2GrT+pYmyRe1",
      "include_colab_link": true
    },
    "kernelspec": {
      "name": "python3",
      "display_name": "Python 3"
    },
    "language_info": {
      "name": "python"
    }
  },
  "cells": [
    {
      "cell_type": "markdown",
      "metadata": {
        "id": "view-in-github",
        "colab_type": "text"
      },
      "source": [
        "<a href=\"https://colab.research.google.com/github/LEE-GYEONG-A/BP_10_Ch9/blob/main/BP_10_Ch9.ipynb\" target=\"_parent\"><img src=\"https://colab.research.google.com/assets/colab-badge.svg\" alt=\"Open In Colab\"/></a>"
      ]
    },
    {
      "cell_type": "code",
      "execution_count": null,
      "metadata": {
        "colab": {
          "base_uri": "https://localhost:8080/"
        },
        "id": "Zuyr860zyX4_",
        "outputId": "7dd58da3-3ebf-4a26-a53c-49c44c06e07f"
      },
      "outputs": [
        {
          "output_type": "stream",
          "name": "stdout",
          "text": [
            "정수를 입력하시오:10\n",
            "정수를 입력하시오:20\n",
            "정수를 입력하시오:30\n",
            "정수를 입력하시오:40\n",
            "정수를 입력하시오:50\n",
            "평균= 30.0\n"
          ]
        }
      ],
      "source": [
        "#문제1\n",
        "alist = []                             #공백 리스트 선언\n",
        "sum = 0\n",
        "\n",
        "for i in range(5):                     #아래의 방법 5번 반복 \n",
        "  i = int(input(\"정수를 입력하시오:\")) #변수i를 사용자로부토 입력받음\n",
        "  alist.append(i)                      #변수i를 리스트에 저장\n",
        "\n",
        "for i in alist:                        \n",
        "  sum += i                             #리스트에 존재하는 모든 수 더함\n",
        "avg = sum/len(alist)                   #변수avg(평균) 선언\n",
        "print(\"평균=\", avg)   \n"
      ]
    },
    {
      "cell_type": "code",
      "source": [
        "#문제2\n",
        "import random                             #random문 선언\n",
        "counters = [0, 0, 0 ,0, 0, 0]             #주사위 값이 나오는 빈도를 리스트에 저장\n",
        "\n",
        "for i in range(1000):                     #아래의 방법을 1000번 반복\n",
        "  value = random.randint(0,5)             #주사위를 던져서 값이 나오면 해당되는 리스트의 요소 증가\n",
        "  counters[value] = counters[value] + 1\n",
        "\n",
        "for i in range(6):                        #아래의 방법 6번 반복\n",
        "  print(\"주사위가\", i+1, \"인 경우는\", counters[i], \"번\") "
      ],
      "metadata": {
        "colab": {
          "base_uri": "https://localhost:8080/"
        },
        "id": "9hcGAfFVz29n",
        "outputId": "8cc948b7-a775-4d02-9703-0abee9edf86a"
      },
      "execution_count": null,
      "outputs": [
        {
          "output_type": "stream",
          "name": "stdout",
          "text": [
            "주사위가 1 인 경우는 157 번\n",
            "주사위가 2 인 경우는 174 번\n",
            "주사위가 3 인 경우는 177 번\n",
            "주사위가 4 인 경우는 159 번\n",
            "주사위가 5 인 경우는 150 번\n",
            "주사위가 6 인 경우는 183 번\n"
          ]
        }
      ]
    },
    {
      "cell_type": "code",
      "source": [
        "#문제3\n",
        "contacts = { }                                 #공백 딕셔너리 선언\n",
        "\n",
        "while True:\n",
        "  name = input(\"(입력모드)이름을 입력하시오:\") #변수name을 사용자가 입력하여 설정\n",
        "  if not name:                                 \n",
        "    break;                                     #종료\n",
        "  tel = input(\"전화번호를 입력하시오:\")        #변수tel을 사용자가 입력하여 설정\n",
        "  contacts[name] = tel                         #변수 name과 tel연결\n",
        "\n",
        "while True:\n",
        "  name = input(\"(검색모드)이름을 입력하시오:\") #변수name을 사용자가 입력하여 검색\n",
        "  if not name:\n",
        "    break;\n",
        "  if name in contacts:                         #변수name과 연결된 tel출력\n",
        "    print(name, \"의 전화번호는\", contacts[name], \"입니다.\")"
      ],
      "metadata": {
        "colab": {
          "base_uri": "https://localhost:8080/"
        },
        "id": "5QuFCPyL0jJP",
        "outputId": "bceb11da-3e43-498c-f16b-9dbec0873799"
      },
      "execution_count": 16,
      "outputs": [
        {
          "name": "stdout",
          "output_type": "stream",
          "text": [
            "(입력모드)이름을 입력하시오:홍길동\n",
            "전화번호를 입력하시오:111-222\n",
            "(입력모드)이름을 입력하시오:김철수\n",
            "전화번호를 입력하시오:222-333\n",
            "(입력모드)이름을 입력하시오:\n",
            "(검색모드)이름을 입력하시오:홍길동\n",
            "홍길동 의 전화번호는 111-222 입니다.\n",
            "(검색모드)이름을 입력하시오:김철수\n",
            "김철수 의 전화번호는 222-333 입니다.\n",
            "(검색모드)이름을 입력하시오:\n"
          ]
        }
      ]
    },
    {
      "cell_type": "code",
      "source": [
        "#문제4\n",
        "import turtle                 #turtle문 선언\n",
        "import random                 #random문 선언\n",
        "t = turtle.Turtle()           #변수t에 turtle.Turtle() 선언\n",
        "t.shape(\"turtle\")             #거북이 모양으로 지정\n",
        " \n",
        "def draw_square(x, y, c):     #draw_square(x, y, c) 정의\n",
        "  t.up()\n",
        "  t.goto(x, y)                #(x, y)로 이동   \n",
        "  t.down()\n",
        "  t.color(\"black\", c)         #선 색:검정, 채우기 색:c로 설정\n",
        "  t.begin_fill()              #색 채우기 시작\n",
        "  t.forward(100)              #100픽셀 전진\n",
        "  t.left(90)                  #왼쪽으로 90도 회전\n",
        "  t.forward(100)              #100픽셀 전진\n",
        "  t.left(90)                  #왼쪽으로 90도 회전\n",
        "  t.forward(100)              #100픽셀 전진\n",
        "  t.left(90)                  #왼쪽으로 90도 회전\n",
        "  t.forward(100)              #100픽셀 전진\n",
        "  t.left(90)                  #왼쪽으로 90도 회전\n",
        "  t.end_fill()                #색 채우기 종료\n",
        "\n",
        "for c in [\"yellow\", \"red\", \"purple\", \"blue\"]: #c에 들어갈 색상 설정\n",
        "  x = random.randint(-100, 100)               #변수x에 (-100, 100)의 위치 범위 설정\n",
        "  y = random.randint(-100, 100)               #변수y에 (-100, 100)의 위치 범위 설정\n",
        "  draw_square(x, y, c)                        #draw_square(x, y, c) 실행\n",
        "\n",
        "t._screen.exitonclick()                    #화면을 마우스로 클릭해야 종료되게 하는 부분"
      ],
      "metadata": {
        "id": "-yK01vOP1mXC"
      },
      "execution_count": null,
      "outputs": []
    },
    {
      "cell_type": "code",
      "source": [
        "#문제5 \n",
        "import turtle                              #turtle문 선언\n",
        "import random                              #random문 선언\n",
        "\n",
        "t = turtle.Turtle()                        #변수t에 turtle.Turtle() 선언\n",
        "s = turtle.Screen()                        #변수s에 turtle.Screen() 선언\n",
        "\n",
        "def draw_shape(t, c, length, sides, x, y): #draw_shape(t, c, length, sides, x, y) 정의\n",
        "  t.up()\n",
        "  t.goto(x, y)                             #(x, y)로 이동\n",
        "  t.down()\n",
        "  t.fillcolor(c)                           #채우기 색:c로 설정\n",
        "  angle = 360.0 / sides                    #각도기 선언\n",
        "  t.begin_fill()                           #색 채우기 시작\n",
        "  for dist in range(sides):                \n",
        "    t.forward(length)                      #length만큼 전진\n",
        "    t.left(angle)                          #왼쪽으로 돌림\n",
        "  t.end_fill()                             #색 채우기 종료\n",
        "\n",
        "for i in range(10):                        #아래의 방법을 10번 반복\n",
        "  color = random.choice(['white', 'yellow', 'blue', 'skyblue', 'orange', 'green']) #[]안의 색상을 리스트에 저장\n",
        "  side_length = random.randint(10, 100)           #변수side_length의 위치범위 설정\n",
        "  sides = random.randint(3, 10)                   #변수sides의 위치범위 설정\n",
        "  x = random.randint(-200, 200)                   #변수x의 위치범위 설정\n",
        "  y = random.randint(-200, 200)                   #변수y의 위치범위 설정\n",
        "  draw_shape(t, color, side_length, sides, x, y)  #draw_shape(t, color, side_length, sides, x, y) 함수 실행\n",
        "\n",
        "t._screen.exitonclick()                    #화면을 마우스로 클릭해야 종료되게 하는 부분"
      ],
      "metadata": {
        "id": "mDWTnQyq7-2e"
      },
      "execution_count": null,
      "outputs": []
    },
    {
      "cell_type": "code",
      "source": [
        "#문제6\n",
        "import turtle                              #turtle문 선언\n",
        "import random                              #random문 선언\n",
        "\n",
        "t = turtle.Turtle()                        #변수t에 turtle.Turtle() 선언\n",
        "s = turtle.Screen()                        #변수s에 turtle.Screen() 선언\n",
        "s.bgcolor(\"black\")                         #배경색상:검정으로 설정\n",
        "\n",
        "def draw_star(colour, side_length, x, y): #draw_star의 정의\n",
        "  t.color(colour)                         #색상:colour로 설정\n",
        "  t.begin_fill()                          #색 채우기 시작\n",
        "  t.penup()                \n",
        "  t.goto(x, y)                            #(x, y)위치로 이동\n",
        "  t.pendown()\n",
        "  for i in range(5):                     #아래의 방법 5번 반복\n",
        "    t.forward(side_length)               #side_length만큼 전진\n",
        "    t.right(144)                         #오른쪽으로 144도 회전\n",
        "    t.forward(side_length)               #side_length만큼 전진\n",
        "  t.end_fill()                           #색 채우기 종료\n",
        "\n",
        "for i in range(20):                        #아래의 방법 20번 반복\n",
        "  colour = random.choice(['white', 'yellow', 'blue', 'skyblue', 'orange', 'green']) #[]안의 색상을 리스트에 저장\n",
        "  side_length = random.randint(10, 100)    #변수side_length의 위치범위 설정\n",
        "  x = random.randint(-200, 200)            #변수x의 위치범위 설정\n",
        "  y = random.randint(-200, 200)            #변수y의 위치범위 설정\n",
        "  draw_star(colour, side_length, x, y) # draw_star(colour, side_length, x, y) 실행\n",
        "\n",
        "t._screen.exitonclick()                    #화면을 마우스로 클릭해야 종료되게 하는 부분"
      ],
      "metadata": {
        "id": "ekwFYwytCour"
      },
      "execution_count": null,
      "outputs": []
    },
    {
      "cell_type": "code",
      "source": [
        "#문제7\n",
        "domains = {\"kr\": \"대한민국\", \"us\": \"미국\", \"jp\":\"일본\", \"de\": \"독일\", \n",
        "           \"sk\": \"슬로바키아\", \"hu\": \"헝가리\", \"no\": \"노르웨이\"} #인터넷 도메인 약자와 해당 국가 딕셔너리에 저장\n",
        "\n",
        "for k, v in domains. items(): #딕셔너리에서 키와 값을 출력\n",
        "  print(k, \":\", v)"
      ],
      "metadata": {
        "colab": {
          "base_uri": "https://localhost:8080/"
        },
        "id": "IEHscAmIMsNY",
        "outputId": "0b8030cd-b77e-4ca2-895b-4f1a5549aac7"
      },
      "execution_count": 17,
      "outputs": [
        {
          "output_type": "stream",
          "name": "stdout",
          "text": [
            "kr : 대한민국\n",
            "us : 미국\n",
            "jp : 일본\n",
            "de : 독일\n",
            "sk : 슬로바키아\n",
            "hu : 헝가리\n",
            "no : 노르웨이\n"
          ]
        }
      ]
    },
    {
      "cell_type": "code",
      "source": [
        "#문제8\n",
        "problems = {'파이썬': '최근에 가장 떠오르는 프로그래밍 언어',\n",
        "           '변수': '데이터를 저장하는 메모리 공간',\n",
        "            '함수': '작업을 수행하는 문장들의 집합에 이름을 붙인 것',\n",
        "            '리스트': '서로 관련이 없는 항목들의 모임,'}    #변수 problems(딕셔너리)에 키만 꺼냄\n",
        "\n",
        "def show_words(problems):                       #show_words(problems) 정의\n",
        "  display_message = \"\"                         \n",
        "  i = 1\n",
        "  for word in problems.keys():\n",
        "    display_message += \"(\"+str(i)+\")\"\n",
        "    display_message += word + \" \"\n",
        "    i +=1\n",
        "  print(display_message)\n",
        "\n",
        "for meaning in problems.values():\n",
        "  print(\"다음은 어떤 단어에 대한 설명일까요?\")\n",
        "  print(\"\\\"\"+meaning+\"\\\"\")\n",
        "  correct = False\n",
        "  while not correct:\n",
        "    show_words(problems)\n",
        "    guessed_word = input(\"\")\n",
        "    if problems[guessed_word] == meaning:\n",
        "      print(\"정답입니다.!\")\n",
        "      correct = True\n",
        "    else:\n",
        "      print(\"정답이 아닙니다.\")"
      ],
      "metadata": {
        "colab": {
          "base_uri": "https://localhost:8080/"
        },
        "id": "RuWPkcqlN1Lc",
        "outputId": "903d600b-e2fd-4289-a0b9-be43d4f4836d"
      },
      "execution_count": 21,
      "outputs": [
        {
          "output_type": "stream",
          "name": "stdout",
          "text": [
            "다음은 어떤 단어에 대한 설명일까요?\n",
            "\"최근에 가장 떠오르는 프로그래밍 언어\"\n",
            "(1)파이썬 (2)변수 (3)함수 (4)리스트 \n",
            "파이썬\n",
            "정답입니다.!\n",
            "다음은 어떤 단어에 대한 설명일까요?\n",
            "\"데이터를 저장하는 메모리 공간\"\n",
            "(1)파이썬 (2)변수 (3)함수 (4)리스트 \n",
            "변수\n",
            "정답입니다.!\n",
            "다음은 어떤 단어에 대한 설명일까요?\n",
            "\"작업을 수행하는 문장들의 집합에 이름을 붙인 것\"\n",
            "(1)파이썬 (2)변수 (3)함수 (4)리스트 \n",
            "리스트\n",
            "정답이 아닙니다.\n",
            "(1)파이썬 (2)변수 (3)함수 (4)리스트 \n",
            "리스트\n",
            "정답이 아닙니다.\n",
            "(1)파이썬 (2)변수 (3)함수 (4)리스트 \n",
            "함수\n",
            "정답입니다.!\n",
            "다음은 어떤 단어에 대한 설명일까요?\n",
            "\"서로 관련이 없는 항목들의 모임,\"\n",
            "(1)파이썬 (2)변수 (3)함수 (4)리스트 \n",
            "리스트\n",
            "정답입니다.!\n"
          ]
        }
      ]
    }
  ]
}